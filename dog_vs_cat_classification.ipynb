{
  "nbformat": 4,
  "nbformat_minor": 0,
  "metadata": {
    "colab": {
      "name": "dog-vs-cat-classification.ipynb",
      "provenance": [],
      "collapsed_sections": []
    },
    "kernelspec": {
      "name": "python3",
      "display_name": "Python 3"
    },
    "language_info": {
      "name": "python"
    },
    "accelerator": "GPU"
  },
  "cells": [
    {
      "cell_type": "code",
      "metadata": {
        "id": "rvPKYSV4RV1P"
      },
      "source": [
        "#This should perform every time when we run\n",
        "!wget https://download.microsoft.com/download/3/E/1/3E1C3F21-ECDB-4869-8368-6DEBA77B919F/kagglecatsanddogs_3367a.zip"
      ],
      "execution_count": null,
      "outputs": []
    },
    {
      "cell_type": "code",
      "metadata": {
        "id": "w_CPV0AjRft-"
      },
      "source": [
        "#This should perform every time when we run\n",
        "!unzip kagglecatsanddogs_3367a.zip"
      ],
      "execution_count": null,
      "outputs": []
    },
    {
      "cell_type": "code",
      "metadata": {
        "id": "K5CJGe5VVFIz"
      },
      "source": [
        "import numpy as np\n",
        "import pandas as pd\n",
        "import matplotlib.pyplot as plt\n",
        "import warnings\n",
        "import os\n",
        "from keras.preprocessing.image import load_img\n",
        "warnings.filterwarnings('ignore')"
      ],
      "execution_count": 3,
      "outputs": []
    },
    {
      "cell_type": "code",
      "metadata": {
        "colab": {
          "base_uri": "https://localhost:8080/"
        },
        "id": "Vs-1LWEwRyDL",
        "outputId": "df96eaca-cdf1-4e10-a5b0-71a9dd616015"
      },
      "source": [
        "input_path=[]\n",
        "label=[]\n",
        "dir='PetImages'\n",
        "for class_path in os.listdir(dir):\n",
        "  for path in os.listdir(dir+'/'+class_path):\n",
        "    if class_path == 'Cat':\n",
        "      label.append(0)\n",
        "    else:\n",
        "      label.append(1)\n",
        "    input_path.append(os.path.join('PetImages',class_path,path))\n",
        "print(input_path[11456])"
      ],
      "execution_count": 4,
      "outputs": [
        {
          "output_type": "stream",
          "text": [
            "PetImages/Dog/7447.jpg\n"
          ],
          "name": "stdout"
        }
      ]
    },
    {
      "cell_type": "code",
      "metadata": {
        "id": "0mPZX2j_WkF1"
      },
      "source": [
        "data=pd.DataFrame({\"image_path\":input_path,\"category\":label})"
      ],
      "execution_count": 5,
      "outputs": []
    },
    {
      "cell_type": "code",
      "metadata": {
        "colab": {
          "base_uri": "https://localhost:8080/",
          "height": 195
        },
        "id": "VnxW4hKFW_EX",
        "outputId": "7ac9106b-0ca3-4bff-891e-7dfb68105570"
      },
      "source": [
        "data.head()"
      ],
      "execution_count": 6,
      "outputs": [
        {
          "output_type": "execute_result",
          "data": {
            "text/html": [
              "<div>\n",
              "<style scoped>\n",
              "    .dataframe tbody tr th:only-of-type {\n",
              "        vertical-align: middle;\n",
              "    }\n",
              "\n",
              "    .dataframe tbody tr th {\n",
              "        vertical-align: top;\n",
              "    }\n",
              "\n",
              "    .dataframe thead th {\n",
              "        text-align: right;\n",
              "    }\n",
              "</style>\n",
              "<table border=\"1\" class=\"dataframe\">\n",
              "  <thead>\n",
              "    <tr style=\"text-align: right;\">\n",
              "      <th></th>\n",
              "      <th>image_path</th>\n",
              "      <th>category</th>\n",
              "    </tr>\n",
              "  </thead>\n",
              "  <tbody>\n",
              "    <tr>\n",
              "      <th>0</th>\n",
              "      <td>PetImages/Dog/10766.jpg</td>\n",
              "      <td>1</td>\n",
              "    </tr>\n",
              "    <tr>\n",
              "      <th>1</th>\n",
              "      <td>PetImages/Dog/8035.jpg</td>\n",
              "      <td>1</td>\n",
              "    </tr>\n",
              "    <tr>\n",
              "      <th>2</th>\n",
              "      <td>PetImages/Dog/8245.jpg</td>\n",
              "      <td>1</td>\n",
              "    </tr>\n",
              "    <tr>\n",
              "      <th>3</th>\n",
              "      <td>PetImages/Dog/955.jpg</td>\n",
              "      <td>1</td>\n",
              "    </tr>\n",
              "    <tr>\n",
              "      <th>4</th>\n",
              "      <td>PetImages/Dog/7310.jpg</td>\n",
              "      <td>1</td>\n",
              "    </tr>\n",
              "  </tbody>\n",
              "</table>\n",
              "</div>"
            ],
            "text/plain": [
              "                image_path  category\n",
              "0  PetImages/Dog/10766.jpg         1\n",
              "1   PetImages/Dog/8035.jpg         1\n",
              "2   PetImages/Dog/8245.jpg         1\n",
              "3    PetImages/Dog/955.jpg         1\n",
              "4   PetImages/Dog/7310.jpg         1"
            ]
          },
          "metadata": {},
          "execution_count": 6
        }
      ]
    },
    {
      "cell_type": "markdown",
      "metadata": {
        "id": "wQwvJh7IXfen"
      },
      "source": [
        "Shuffle the data"
      ]
    },
    {
      "cell_type": "code",
      "metadata": {
        "id": "LkSmMlWpXIMh",
        "colab": {
          "base_uri": "https://localhost:8080/",
          "height": 195
        },
        "outputId": "7a6375cc-a874-4d69-bd32-2afd4093eb8f"
      },
      "source": [
        "data=data.sample(frac=1).reset_index(drop=True)\n",
        "data.head()"
      ],
      "execution_count": 7,
      "outputs": [
        {
          "output_type": "execute_result",
          "data": {
            "text/html": [
              "<div>\n",
              "<style scoped>\n",
              "    .dataframe tbody tr th:only-of-type {\n",
              "        vertical-align: middle;\n",
              "    }\n",
              "\n",
              "    .dataframe tbody tr th {\n",
              "        vertical-align: top;\n",
              "    }\n",
              "\n",
              "    .dataframe thead th {\n",
              "        text-align: right;\n",
              "    }\n",
              "</style>\n",
              "<table border=\"1\" class=\"dataframe\">\n",
              "  <thead>\n",
              "    <tr style=\"text-align: right;\">\n",
              "      <th></th>\n",
              "      <th>image_path</th>\n",
              "      <th>category</th>\n",
              "    </tr>\n",
              "  </thead>\n",
              "  <tbody>\n",
              "    <tr>\n",
              "      <th>0</th>\n",
              "      <td>PetImages/Dog/8801.jpg</td>\n",
              "      <td>1</td>\n",
              "    </tr>\n",
              "    <tr>\n",
              "      <th>1</th>\n",
              "      <td>PetImages/Cat/4049.jpg</td>\n",
              "      <td>0</td>\n",
              "    </tr>\n",
              "    <tr>\n",
              "      <th>2</th>\n",
              "      <td>PetImages/Dog/7253.jpg</td>\n",
              "      <td>1</td>\n",
              "    </tr>\n",
              "    <tr>\n",
              "      <th>3</th>\n",
              "      <td>PetImages/Cat/11268.jpg</td>\n",
              "      <td>0</td>\n",
              "    </tr>\n",
              "    <tr>\n",
              "      <th>4</th>\n",
              "      <td>PetImages/Dog/7038.jpg</td>\n",
              "      <td>1</td>\n",
              "    </tr>\n",
              "  </tbody>\n",
              "</table>\n",
              "</div>"
            ],
            "text/plain": [
              "                image_path  category\n",
              "0   PetImages/Dog/8801.jpg         1\n",
              "1   PetImages/Cat/4049.jpg         0\n",
              "2   PetImages/Dog/7253.jpg         1\n",
              "3  PetImages/Cat/11268.jpg         0\n",
              "4   PetImages/Dog/7038.jpg         1"
            ]
          },
          "metadata": {},
          "execution_count": 7
        }
      ]
    },
    {
      "cell_type": "code",
      "metadata": {
        "colab": {
          "base_uri": "https://localhost:8080/"
        },
        "id": "inD73klnDaEW",
        "outputId": "0301bc17-1055-4fca-bd9e-c1a967c9f191"
      },
      "source": [
        "for i in data['image_path']:\n",
        "  if '.jpg' not in i:\n",
        "    print(i)"
      ],
      "execution_count": 38,
      "outputs": [
        {
          "output_type": "stream",
          "text": [
            "PetImages/Dog/Thumbs.db\n",
            "PetImages/Cat/Thumbs.db\n"
          ],
          "name": "stdout"
        }
      ]
    },
    {
      "cell_type": "code",
      "metadata": {
        "colab": {
          "base_uri": "https://localhost:8080/"
        },
        "id": "ipD06LZSEsRU",
        "outputId": "6c827961-1a96-46b6-8963-89b68343b446"
      },
      "source": [
        "#delete the files\n",
        "data= data[data['image_path']!='PetImages/Dog/Thumbs.db']\n",
        "print(len(data))\n",
        "data= data[data['image_path']!='PetImages/Cat/Thumbs.db']\n",
        "len(data)"
      ],
      "execution_count": 44,
      "outputs": [
        {
          "output_type": "stream",
          "text": [
            "25001\n"
          ],
          "name": "stdout"
        },
        {
          "output_type": "execute_result",
          "data": {
            "text/plain": [
              "25000"
            ]
          },
          "metadata": {},
          "execution_count": 44
        }
      ]
    },
    {
      "cell_type": "code",
      "metadata": {
        "colab": {
          "base_uri": "https://localhost:8080/"
        },
        "id": "E5w2Kn9SGVpW",
        "outputId": "a66c1865-fe2a-4908-a1ee-5354c69f3358"
      },
      "source": [
        "import PIL\n",
        "l=[]\n",
        "for image in data['image_path']:\n",
        "  try:\n",
        "    img=PIL.Image.open(image)\n",
        "  except:\n",
        "    l.append(image)\n",
        "l"
      ],
      "execution_count": 55,
      "outputs": [
        {
          "output_type": "execute_result",
          "data": {
            "text/plain": [
              "['PetImages/Dog/11702.jpg', 'PetImages/Cat/666.jpg']"
            ]
          },
          "metadata": {},
          "execution_count": 55
        }
      ]
    },
    {
      "cell_type": "code",
      "metadata": {
        "id": "SN6UmXLDHA4z"
      },
      "source": [
        "data= data[data['image_path']!='PetImages/Dog/11702.jpg']\n",
        "data= data[data['image_path']!='PetImages/Cat/666.jpg']"
      ],
      "execution_count": 57,
      "outputs": []
    },
    {
      "cell_type": "markdown",
      "metadata": {
        "id": "a4CszvL7ZRpF"
      },
      "source": [
        "## Visualize the data"
      ]
    },
    {
      "cell_type": "code",
      "metadata": {
        "id": "WLMiUchrXvWj"
      },
      "source": [
        "import random\n",
        "plt.figure(figsize=(25,25))\n",
        "temp=data[data['category']==0]['image_path']\n",
        "start=random.randint(0,len(temp))\n",
        "files=temp[start:start+25]\n",
        "for index,x in enumerate(files):\n",
        "  plt.subplot(5,5,index+1)\n",
        "  img=load_img(x)\n",
        "  img=np.array(img)\n",
        "  plt.imshow(img)\n",
        "  plt.title('Cats')\n",
        "  plt.axis('off')"
      ],
      "execution_count": null,
      "outputs": []
    },
    {
      "cell_type": "code",
      "metadata": {
        "colab": {
          "base_uri": "https://localhost:8080/",
          "height": 34
        },
        "id": "DUpaghXkachh",
        "outputId": "f49e70f1-0250-46db-b157-97ece04e386e"
      },
      "source": [
        "plt.figure(figsize=(10,10))\n",
        "temp=data[data['category']==1]['image_path']\n",
        "start=random.randint(0,len(temp))\n",
        "files=temp[start:start+12]\n",
        "for index,file in enumerate(files):\n",
        "  plt.subplot(3,4,index+1)\n",
        "  img=load_img(file)\n",
        "  img=np.array(img)\n",
        "  plt.imshow(img)\n",
        "  plt.title('Dogs')\n",
        "  plt.axis('off')"
      ],
      "execution_count": 41,
      "outputs": [
        {
          "output_type": "display_data",
          "data": {
            "text/plain": [
              "<Figure size 720x720 with 0 Axes>"
            ]
          },
          "metadata": {}
        }
      ]
    },
    {
      "cell_type": "markdown",
      "metadata": {
        "id": "NN7VMAW1bLj4"
      },
      "source": [
        "#Checking for blanced dataset"
      ]
    },
    {
      "cell_type": "code",
      "metadata": {
        "colab": {
          "base_uri": "https://localhost:8080/",
          "height": 296
        },
        "id": "QbkkmN3Qa3qm",
        "outputId": "fb3fdf39-b57f-4051-e7c5-c6c374f205e0"
      },
      "source": [
        "import seaborn as sns\n",
        "sns.countplot(data['category'])"
      ],
      "execution_count": 46,
      "outputs": [
        {
          "output_type": "execute_result",
          "data": {
            "text/plain": [
              "<matplotlib.axes._subplots.AxesSubplot at 0x7f9be8517f10>"
            ]
          },
          "metadata": {},
          "execution_count": 46
        },
        {
          "output_type": "display_data",
          "data": {
            "image/png": "[encoded data removed]",
            "text/plain": [
              "<Figure size 432x288 with 1 Axes>"
            ]
          },
          "metadata": {
            "needs_background": "light"
          }
        }
      ]
    },
    {
      "cell_type": "code",
      "metadata": {
        "id": "xsri3MtUbaeA"
      },
      "source": [
        "data['category']=data['category'].astype('str')"
      ],
      "execution_count": 59,
      "outputs": []
    },
    {
      "cell_type": "code",
      "metadata": {
        "colab": {
          "base_uri": "https://localhost:8080/"
        },
        "id": "lzT3R7ludRV0",
        "outputId": "8ca8d114-efe3-4936-c64c-c5e98e35e74d"
      },
      "source": [
        "data.dtypes"
      ],
      "execution_count": 60,
      "outputs": [
        {
          "output_type": "execute_result",
          "data": {
            "text/plain": [
              "image_path    object\n",
              "category      object\n",
              "dtype: object"
            ]
          },
          "metadata": {},
          "execution_count": 60
        }
      ]
    },
    {
      "cell_type": "markdown",
      "metadata": {
        "id": "MUtotOI8e6EA"
      },
      "source": [
        "#Split the dataset"
      ]
    },
    {
      "cell_type": "code",
      "metadata": {
        "id": "QO99KRRydUIv",
        "colab": {
          "base_uri": "https://localhost:8080/",
          "height": 195
        },
        "outputId": "3e8717d2-d393-4538-e502-d4a7a25f92b2"
      },
      "source": [
        "from sklearn.model_selection import train_test_split\n",
        "train_data,test_data=train_test_split(data,test_size=0.2,random_state=43)\n",
        "#split train_data into validattion and train data\n",
        "train_df,val_data=train_test_split(train_data,test_size=0.2,random_state=43)\n",
        "test_data.head()"
      ],
      "execution_count": 90,
      "outputs": [
        {
          "output_type": "execute_result",
          "data": {
            "text/html": [
              "<div>\n",
              "<style scoped>\n",
              "    .dataframe tbody tr th:only-of-type {\n",
              "        vertical-align: middle;\n",
              "    }\n",
              "\n",
              "    .dataframe tbody tr th {\n",
              "        vertical-align: top;\n",
              "    }\n",
              "\n",
              "    .dataframe thead th {\n",
              "        text-align: right;\n",
              "    }\n",
              "</style>\n",
              "<table border=\"1\" class=\"dataframe\">\n",
              "  <thead>\n",
              "    <tr style=\"text-align: right;\">\n",
              "      <th></th>\n",
              "      <th>image_path</th>\n",
              "      <th>category</th>\n",
              "    </tr>\n",
              "  </thead>\n",
              "  <tbody>\n",
              "    <tr>\n",
              "      <th>11151</th>\n",
              "      <td>PetImages/Cat/6537.jpg</td>\n",
              "      <td>0</td>\n",
              "    </tr>\n",
              "    <tr>\n",
              "      <th>8044</th>\n",
              "      <td>PetImages/Dog/209.jpg</td>\n",
              "      <td>1</td>\n",
              "    </tr>\n",
              "    <tr>\n",
              "      <th>2831</th>\n",
              "      <td>PetImages/Cat/1116.jpg</td>\n",
              "      <td>0</td>\n",
              "    </tr>\n",
              "    <tr>\n",
              "      <th>4608</th>\n",
              "      <td>PetImages/Cat/3055.jpg</td>\n",
              "      <td>0</td>\n",
              "    </tr>\n",
              "    <tr>\n",
              "      <th>3494</th>\n",
              "      <td>PetImages/Dog/5766.jpg</td>\n",
              "      <td>1</td>\n",
              "    </tr>\n",
              "  </tbody>\n",
              "</table>\n",
              "</div>"
            ],
            "text/plain": [
              "                   image_path category\n",
              "11151  PetImages/Cat/6537.jpg        0\n",
              "8044    PetImages/Dog/209.jpg        1\n",
              "2831   PetImages/Cat/1116.jpg        0\n",
              "4608   PetImages/Cat/3055.jpg        0\n",
              "3494   PetImages/Dog/5766.jpg        1"
            ]
          },
          "metadata": {},
          "execution_count": 90
        }
      ]
    },
    {
      "cell_type": "markdown",
      "metadata": {
        "id": "y01-lzBvfi5m"
      },
      "source": [
        "#Image_data_generator"
      ]
    },
    {
      "cell_type": "code",
      "metadata": {
        "id": "vv-GwpKwezGu",
        "colab": {
          "base_uri": "https://localhost:8080/"
        },
        "outputId": "4fdfcac6-e17b-43f6-a2f1-98839b51dd81"
      },
      "source": [
        "from keras.preprocessing.image import ImageDataGenerator\n",
        "train_datagen=ImageDataGenerator(\n",
        "    rescale=1./255,\n",
        "    rotation_range=57,\n",
        "    shear_range=0.4,\n",
        "    zoom_range=0.3,\n",
        "    horizontal_flip=True,\n",
        "    vertical_flip=True,\n",
        "    fill_mode='nearest'\n",
        ")\n",
        "val_datagen = ImageDataGenerator(rescale=1./255)\n",
        "test_datagen = ImageDataGenerator(rescale=1./255)\n",
        "train_iterator = train_datagen.flow_from_dataframe(\n",
        "        train_df,\n",
        "        x_col='image_path',\n",
        "        y_col='category',\n",
        "        target_size=(150, 150),\n",
        "        batch_size=32,\n",
        "        class_mode='binary')\n",
        "val_iterator = val_datagen.flow_from_dataframe(\n",
        "        val_data,\n",
        "        x_col='image_path',\n",
        "        y_col='category',\n",
        "        target_size=(150, 150),\n",
        "        batch_size=32,\n",
        "        class_mode='binary')"
      ],
      "execution_count": 62,
      "outputs": [
        {
          "output_type": "stream",
          "text": [
            "Found 15998 validated image filenames belonging to 2 classes.\n",
            "Found 4000 validated image filenames belonging to 2 classes.\n"
          ],
          "name": "stdout"
        }
      ]
    },
    {
      "cell_type": "markdown",
      "metadata": {
        "id": "CV0LYIgx_FRL"
      },
      "source": [
        "#Model_building"
      ]
    },
    {
      "cell_type": "code",
      "metadata": {
        "id": "m5sJVKxD9BYt"
      },
      "source": [
        "from keras import Sequential\n",
        "from keras.layers import Conv2D, MaxPool2D, Flatten, Dense\n",
        "model=Sequential([\n",
        "                  #first cnn layer\n",
        "                  Conv2D(32,(3,3),activation='relu', kernel_initializer='he_uniform', input_shape=(150,150,3)),\n",
        "                  MaxPool2D((2,2)),\n",
        "                  #second cnn layer\n",
        "                  Conv2D(20, (3,3), activation='relu', kernel_initializer='he_uniform'),\n",
        "                  MaxPool2D((2,2)),\n",
        "                  #third cnn layer\n",
        "                  Conv2D(15, (3,3), activation='relu', kernel_initializer='he_uniform'),\n",
        "                  MaxPool2D((2,2)),\n",
        "                  #flatten layer\n",
        "                  Flatten(),\n",
        "                  #First Dense layer\n",
        "                  Dense(units=64, activation=\"relu\", kernel_initializer='he_uniform'),\n",
        "                  #Second Dense layer\n",
        "                  Dense(units=35, activation=\"relu\", kernel_initializer='he_uniform'),\n",
        "                  #output layer..\n",
        "                  Dense(units=1, activation='sigmoid')\n",
        "])"
      ],
      "execution_count": 63,
      "outputs": []
    },
    {
      "cell_type": "code",
      "metadata": {
        "colab": {
          "base_uri": "https://localhost:8080/"
        },
        "id": "C0BT3x_dBTzV",
        "outputId": "d1a9f11e-1ef9-4929-ef77-ed6ef6450327"
      },
      "source": [
        "model.compile(optimizer='adam',loss='binary_crossentropy',metrics=['accuracy'])\n",
        "model.summary()"
      ],
      "execution_count": 64,
      "outputs": [
        {
          "output_type": "stream",
          "text": [
            "Model: \"sequential_4\"\n",
            "_________________________________________________________________\n",
            "Layer (type)                 Output Shape              Param #   \n",
            "=================================================================\n",
            "conv2d_12 (Conv2D)           (None, 148, 148, 32)      896       \n",
            "_________________________________________________________________\n",
            "max_pooling2d_12 (MaxPooling (None, 74, 74, 32)        0         \n",
            "_________________________________________________________________\n",
            "conv2d_13 (Conv2D)           (None, 72, 72, 20)        5780      \n",
            "_________________________________________________________________\n",
            "max_pooling2d_13 (MaxPooling (None, 36, 36, 20)        0         \n",
            "_________________________________________________________________\n",
            "conv2d_14 (Conv2D)           (None, 34, 34, 15)        2715      \n",
            "_________________________________________________________________\n",
            "max_pooling2d_14 (MaxPooling (None, 17, 17, 15)        0         \n",
            "_________________________________________________________________\n",
            "flatten_4 (Flatten)          (None, 4335)              0         \n",
            "_________________________________________________________________\n",
            "dense_12 (Dense)             (None, 64)                277504    \n",
            "_________________________________________________________________\n",
            "dense_13 (Dense)             (None, 35)                2275      \n",
            "_________________________________________________________________\n",
            "dense_14 (Dense)             (None, 1)                 36        \n",
            "=================================================================\n",
            "Total params: 289,206\n",
            "Trainable params: 289,206\n",
            "Non-trainable params: 0\n",
            "_________________________________________________________________\n"
          ],
          "name": "stdout"
        }
      ]
    },
    {
      "cell_type": "code",
      "metadata": {
        "colab": {
          "base_uri": "https://localhost:8080/"
        },
        "id": "69qEFxgQBoFd",
        "outputId": "24cab542-c3e6-4669-a593-ac9491e18186"
      },
      "source": [
        "cnn=model.fit_generator(train_iterator, epochs=10, validation_data=val_iterator)"
      ],
      "execution_count": 67,
      "outputs": [
        {
          "output_type": "stream",
          "text": [
            "Epoch 1/10\n",
            "500/500 [==============================] - 148s 297ms/step - loss: 0.4745 - accuracy: 0.7729 - val_loss: 0.5217 - val_accuracy: 0.7308\n",
            "Epoch 2/10\n",
            "500/500 [==============================] - 145s 290ms/step - loss: 0.4727 - accuracy: 0.7745 - val_loss: 0.4523 - val_accuracy: 0.7820\n",
            "Epoch 3/10\n",
            "500/500 [==============================] - 146s 292ms/step - loss: 0.4644 - accuracy: 0.7776 - val_loss: 0.4446 - val_accuracy: 0.7872\n",
            "Epoch 4/10\n",
            "500/500 [==============================] - 146s 292ms/step - loss: 0.4637 - accuracy: 0.7772 - val_loss: 0.4941 - val_accuracy: 0.7495\n",
            "Epoch 5/10\n",
            "500/500 [==============================] - 147s 294ms/step - loss: 0.4590 - accuracy: 0.7828 - val_loss: 0.4492 - val_accuracy: 0.7847\n",
            "Epoch 6/10\n",
            "500/500 [==============================] - 148s 295ms/step - loss: 0.4528 - accuracy: 0.7887 - val_loss: 0.4311 - val_accuracy: 0.8025\n",
            "Epoch 7/10\n",
            "500/500 [==============================] - 148s 296ms/step - loss: 0.4477 - accuracy: 0.7857 - val_loss: 0.4297 - val_accuracy: 0.7980\n",
            "Epoch 8/10\n",
            "500/500 [==============================] - 147s 294ms/step - loss: 0.4463 - accuracy: 0.7941 - val_loss: 0.4378 - val_accuracy: 0.8015\n",
            "Epoch 9/10\n",
            "500/500 [==============================] - 147s 294ms/step - loss: 0.4424 - accuracy: 0.7927 - val_loss: 0.4179 - val_accuracy: 0.8087\n",
            "Epoch 10/10\n",
            "500/500 [==============================] - 148s 296ms/step - loss: 0.4403 - accuracy: 0.7933 - val_loss: 0.4512 - val_accuracy: 0.7870\n"
          ],
          "name": "stdout"
        }
      ]
    },
    {
      "cell_type": "code",
      "metadata": {
        "id": "qSPshF6IcbCB"
      },
      "source": [
        ""
      ],
      "execution_count": null,
      "outputs": []
    }
  ]
}